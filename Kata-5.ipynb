{
 "cells": [
  {
   "cell_type": "markdown",
   "metadata": {},
   "source": [
    "# Ejercicio 1: Utilizar operadores matemáticos"
   ]
  },
  {
   "cell_type": "code",
   "execution_count": 19,
   "metadata": {},
   "outputs": [
    {
     "name": "stdout",
     "output_type": "stream",
     "text": [
      "La distancia entre los 2 planetas es 628949330 km o bien 390577534 millas\n"
     ]
    }
   ],
   "source": [
    "# Crear variables para almacenar las dos distancias\n",
    "tierra = 149597870 #km\n",
    "jupiter = 778547200 #km\n",
    "\n",
    "distancia_en_km = (abs(tierra-jupiter))\n",
    "distancia_en_millas = round(0.621 * distancia_en_km) \n",
    "print('La distancia entre los 2 planetas es',distancia_en_km,'km o bien',distancia_en_millas ,'millas')\n",
    "\n",
    "\n",
    "\n"
   ]
  },
  {
   "cell_type": "markdown",
   "metadata": {},
   "source": [
    "# Ejercicio 2: Convierte cadenas en números y entrada de usuario\n",
    "Crear una aplicación para trabajar con números y entrada de usuario"
   ]
  },
  {
   "cell_type": "code",
   "execution_count": null,
   "metadata": {},
   "outputs": [],
   "source": [
    "#Valores prueba : 149597870 y 778547200\n",
    "\n",
    "p_uno = input('Distancia del planeta 1') #Es en km\n",
    "p_dos = input('Distancia del planeta 2') #Es en km\n",
    "\n",
    "# Convierte las cadenas de ambos planetas a números enteros\n",
    "p_uno = int(p_uno)\n",
    "p_dos = int(p_dos)\n",
    "\n",
    "#Calcular la distancia\n",
    "dist_km = (abs(p_uno-p_dos))\n",
    "dist_millas = round(dist_km * 0.621)\n",
    "\n",
    "print('La distancia entre los 2 planetas es',dist_km,'km o bien',dist_millas,'millas')\n",
    "\n"
   ]
  }
 ],
 "metadata": {
  "interpreter": {
   "hash": "804b4bb89703e2b7733f444057c6103eb839e48cc32f506db749dbc9e382aa80"
  },
  "kernelspec": {
   "display_name": "Python 3.10.2 64-bit",
   "language": "python",
   "name": "python3"
  },
  "language_info": {
   "codemirror_mode": {
    "name": "ipython",
    "version": 3
   },
   "file_extension": ".py",
   "mimetype": "text/x-python",
   "name": "python",
   "nbconvert_exporter": "python",
   "pygments_lexer": "ipython3",
   "version": "3.10.2"
  },
  "orig_nbformat": 4
 },
 "nbformat": 4,
 "nbformat_minor": 2
}
