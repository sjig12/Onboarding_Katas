{
 "cells": [
  {
   "cell_type": "markdown",
   "metadata": {},
   "source": [
    "## Ejercicio - Escribir declaraciones if, else, y elif"
   ]
  },
  {
   "cell_type": "code",
   "execution_count": 2,
   "metadata": {},
   "outputs": [
    {
     "name": "stdout",
     "output_type": "stream",
     "text": [
      "Valio queso nos vamos a morir todos\n"
     ]
    }
   ],
   "source": [
    "# Ejercicio 1\n",
    "asteroide = 49 #km/s\n",
    "if asteroide > 25: \n",
    "     print(\"Valio queso nos vamos a morir todos\")\n",
    "else:\n",
    "    print(\"Todo bien por el momento\")"
   ]
  },
  {
   "cell_type": "code",
   "execution_count": 6,
   "metadata": {},
   "outputs": [
    {
     "name": "stdout",
     "output_type": "stream",
     "text": [
      "sigan con sus vidas xd\n"
     ]
    }
   ],
   "source": [
    "# Ejercicio 2\n",
    "asteroide = 19 #km/s\n",
    "\n",
    "if asteroide > 20:\n",
    "    print(\"Miren el cielo y busquen el asteroide!\")\n",
    "elif asteroide == 20:\n",
    "    print(\"Miren el cielo y busquen el asteroide!\")\n",
    "else:\n",
    "    print(\"sigan con sus vidas xd\")"
   ]
  },
  {
   "cell_type": "code",
   "execution_count": 7,
   "metadata": {},
   "outputs": [
    {
     "name": "stdout",
     "output_type": "stream",
     "text": [
      "Miren el cielo, hay una luz mágica!\n"
     ]
    }
   ],
   "source": [
    "# Ejercicio 3\n",
    "tamaño_asteroide = 40 #metros\n",
    "velocidad= 25 #km/s\n",
    "\n",
    "\n",
    "if velocidad > 25 and tamaño_asteroide > 25:\n",
    "    print(\"Valimos queso raza\")\n",
    "elif velocidad >= 20:\n",
    "    print(\"Miren el cielo, hay una luz mágica!\")\n",
    "elif tamaño_asteroide < 25:\n",
    "    print(\"Sigan con sus vidas\")\n",
    "else:\n",
    "    print(\"sigan con sus vidas\")"
   ]
  }
 ],
 "metadata": {
  "interpreter": {
   "hash": "804b4bb89703e2b7733f444057c6103eb839e48cc32f506db749dbc9e382aa80"
  },
  "kernelspec": {
   "display_name": "Python 3.10.2 64-bit",
   "language": "python",
   "name": "python3"
  },
  "language_info": {
   "codemirror_mode": {
    "name": "ipython",
    "version": 3
   },
   "file_extension": ".py",
   "mimetype": "text/x-python",
   "name": "python",
   "nbconvert_exporter": "python",
   "pygments_lexer": "ipython3",
   "version": "3.10.2"
  },
  "orig_nbformat": 4
 },
 "nbformat": 4,
 "nbformat_minor": 2
}
